{
 "cells": [
  {
   "cell_type": "markdown",
   "metadata": {
    "slideshow": {
     "slide_type": "slide"
    }
   },
   "source": [
    "# Lecture 2 notebook part 1: Build a Feedforward neural network\n",
    "## Introduction to TensorFlow and Deep Learning\n",
    "\n",
    "## IADS Summer School, 1st August 2022\n",
    "\n",
    "### Dr Michael Fairbank, University of Essex, UK\n",
    "\n",
    "- Email: m.fairbank@essex.ac.uk\n",
    "- This is a Jupyter Notebook to accompany Lecture 2 of the course"
   ]
  },
  {
   "cell_type": "markdown",
   "metadata": {
    "slideshow": {
     "slide_type": "slide"
    }
   },
   "source": [
    "### Feedforward algorithm (Exercise 1)\n",
    "\n",
    "- Complete the code below to implement a 2-2-1 feedforward network.\n",
    "- If successful, you should see the output value 0.50787264."
   ]
  },
  {
   "cell_type": "code",
   "execution_count": null,
   "metadata": {
    "slideshow": {
     "slide_type": "fragment"
    }
   },
   "outputs": [],
   "source": [
    "import tensorflow as tf\n",
    "\n",
    "x=tf.constant([[1,1]], tf.float32) # our input vector\n",
    "\n",
    "# Build our random weight and bias matrices, of appropriate shapes\n",
    "W1 = tf.Variable(tf.random.truncated_normal([#,#], stddev=0.1, seed=1))\n",
    "b1 = tf.Variable(tf.random.truncated_normal([#,#], stddev=0.1, seed=2))\n",
    "W2 = tf.Variable(tf.random.truncated_normal([#,#], stddev=0.1, seed=3))\n",
    "b2 = tf.Variable(tf.random.truncated_normal([#,#], stddev=0.1, seed=4))\n",
    "# define our feed-forward neural network here:\n",
    "def run_network(x):\n",
    "    h1=#TODO\n",
    "    y=#TODO\n",
    "    return y\n",
    "    \n",
    "print(run_network(x).numpy()) # "
   ]
  },
  {
   "cell_type": "markdown",
   "metadata": {},
   "source": [
    "#### Exercise 2\n",
    "- In the code block below, redefine the variable x to represent 4 input patterns as described in the lecture slides.\n",
    "- Rerun your run_network function (no need to redefine that function though) and check it outputs 0.509233, 0.509222, 0.507883, 0.507872 \n",
    "- Due to strange random-number generator behaviour with Jupyter+Tensorflow, Please reset the jupyter kernel just before running your code block below if you want to replicate the values 0.509233, 0.509222, 0.507883, 0.507872 "
   ]
  },
  {
   "cell_type": "code",
   "execution_count": null,
   "metadata": {},
   "outputs": [],
   "source": [
    "# TODO insert code for exercise 2 here.\n"
   ]
  },
  {
   "cell_type": "markdown",
   "metadata": {},
   "source": [
    "## Train your network (Exercise 3)\n",
    "\n",
    "- Fill in the TODOs in the code block below to train the network"
   ]
  },
  {
   "cell_type": "code",
   "execution_count": null,
   "metadata": {},
   "outputs": [],
   "source": [
    "y_labels=# TODO\n",
    "def calc_loss():\n",
    "    # TODO\n",
    "\n",
    "optimizer = tf.keras.optimizers.SGD(0.5)\n",
    "for i in range(20000):\n",
    "    #TODO\n",
    "    if (i%1000)==0:\n",
    "        print(\"iteration \",i,\" loss\", calc_loss().numpy())\n",
    "        \n",
    "print(run_network(x).numpy())"
   ]
  },
  {
   "cell_type": "markdown",
   "metadata": {},
   "source": [
    "#### Rewrite your code to use the keras layers (Optional Exercise 4)\n",
    "\n",
    "- Add some code into the block below to build a network from scratch, using Keras layers, and train it.\n",
    "- Note, you might need to run the training loop several times from freshly randomised weights to get it to converge."
   ]
  },
  {
   "cell_type": "code",
   "execution_count": null,
   "metadata": {},
   "outputs": [],
   "source": [
    "# TODO- Add code for Exercise 4 here:\n"
   ]
  }
 ],
 "metadata": {
  "kernelspec": {
   "display_name": "Python 3 (ipykernel)",
   "language": "python",
   "name": "python3"
  },
  "language_info": {
   "codemirror_mode": {
    "name": "ipython",
    "version": 3
   },
   "file_extension": ".py",
   "mimetype": "text/x-python",
   "name": "python",
   "nbconvert_exporter": "python",
   "pygments_lexer": "ipython3",
   "version": "3.9.13"
  }
 },
 "nbformat": 4,
 "nbformat_minor": 4
}
