{
 "cells": [
  {
   "cell_type": "markdown",
   "metadata": {
    "slideshow": {
     "slide_type": "slide"
    }
   },
   "source": [
    "# Lecture 3 notebook - IRIS dataset\n",
    "## Introduction to TensorFlow and Deep Learning\n",
    "\n",
    "## IADS Summer School, 1st August 2022\n",
    "\n",
    "### Dr Michael Fairbank, University of Essex, UK\n",
    "\n",
    "- Email: m.fairbank@essex.ac.uk\n",
    "- This is a Jupyter Notebook to accompany Lecture 3 of the course"
   ]
  },
  {
   "cell_type": "markdown",
   "metadata": {
    "slideshow": {
     "slide_type": "slide"
    }
   },
   "source": [
    "### Load the Iris Dataset\n"
   ]
  },
  {
   "cell_type": "code",
   "execution_count": null,
   "metadata": {
    "slideshow": {
     "slide_type": "fragment"
    }
   },
   "outputs": [],
   "source": [
    "import pandas as pd\n",
    "\n",
    "#Load CSV files\n",
    "inputs_train=pd.read_csv('datasets/iris_train.csv',usecols = [0,1,2,3],skiprows = None,header=None).values\n",
    "labels_train = pd.read_csv('datasets/iris_train.csv',usecols = [4],skiprows = None ,header=None).values.reshape(-1)\n",
    "inputs_test=pd.read_csv('datasets/iris_test.csv',usecols = [0,1,2,3],skiprows = None,header=None).values\n",
    "labels_test = pd.read_csv('datasets/iris_test.csv',usecols = [4],skiprows = None ,header=None).values.reshape(-1)\n",
    "# If the above line fails then try instead the following 4 lines, to download it directly from \n",
    "# my google drive account\n",
    "#inputs_train=pd.read_csv('https://drive.google.com/uc?export=download&id=15g37AN8yaPJtuQwOnhuNuMIWcMr8vB9C',usecols = [0,1,2,3],skiprows = None,header=None).values\n",
    "#labels_train = pd.read_csv('https://drive.google.com/uc?export=download&id=15g37AN8yaPJtuQwOnhuNuMIWcMr8vB9C',usecols = [4],skiprows = None ,header=None).values.reshape(-1)\n",
    "#inputs_test=pd.read_csv('https://drive.google.com/uc?export=download&id=1a7ok2PiILjhzrB3cUWmXvBmHY-cpZ6lc',usecols = [0,1,2,3],skiprows = None,header=None).values\n",
    "#labels_test = pd.read_csv('https://drive.google.com/uc?export=download&id=1a7ok2PiILjhzrB3cUWmXvBmHY-cpZ6lc',usecols = [4],skiprows = None ,header=None).values.reshape(-1)\n",
    "\n",
    "\n",
    "print(\"Data loaded\")\n",
    "print(\"Train set inputs:\",inputs_train)\n",
    "print(\"Train set labels:\",labels_train)\n",
    "print(\"Test set inputs:\",inputs_test)\n",
    "print(\"Test set labels:\",labels_test)\n"
   ]
  },
  {
   "cell_type": "markdown",
   "metadata": {},
   "source": [
    "#### Build the neural network"
   ]
  },
  {
   "cell_type": "code",
   "execution_count": null,
   "metadata": {
    "slideshow": {
     "slide_type": "fragment"
    }
   },
   "outputs": [],
   "source": [
    "import tensorflow as tf\n",
    "from tensorflow import keras\n",
    "\n",
    "#Neural network\n",
    "hids=[4,20,20,3]\n",
    "k_l2=0\n",
    "layer1=tf.keras.layers.Dense(hids[1], activation='tanh',kernel_regularizer=keras.regularizers.l2(k_l2))\n",
    "layer2=tf.keras.layers.Dense(hids[2], activation='tanh',kernel_regularizer=keras.regularizers.l2(k_l2))\n",
    "layer3=tf.keras.layers.Dense(hids[3], activation='softmax',kernel_regularizer=keras.regularizers.l2(k_l2))\n",
    "keras_model = tf.keras.Sequential([layer1,layer2,layer3])\n",
    "print(keras_model(inputs_train[0:1,:])) # we have to run the network once before the trainable_variables are created\n",
    "print(keras_model.summary()) # Prints an overview of a keras model"
   ]
  },
  {
   "cell_type": "markdown",
   "metadata": {},
   "source": [
    "#### Train the neural network"
   ]
  },
  {
   "cell_type": "code",
   "execution_count": null,
   "metadata": {
    "slideshow": {
     "slide_type": "fragment"
    }
   },
   "outputs": [],
   "source": [
    "optimizer = tf.keras.optimizers.Adam()\n",
    "keras_model.compile(\n",
    "    optimizer=optimizer,  # Optimizer\n",
    "    # Loss function to minimize\n",
    "    loss=tf.keras.losses.SparseCategoricalCrossentropy(),\n",
    "    # List of metrics to monitor\n",
    "    metrics=[keras.metrics.SparseCategoricalAccuracy()]\n",
    ") \n"
   ]
  },
  {
   "cell_type": "code",
   "execution_count": null,
   "metadata": {
    "slideshow": {
     "slide_type": "fragment"
    }
   },
   "outputs": [],
   "source": [
    "# Train loop\n",
    "history = keras_model.fit(\n",
    "    inputs_train,\n",
    "    labels_train,\n",
    "    batch_size=len(inputs_train),\n",
    "    epochs=2000,\n",
    "    validation_data=(inputs_test, labels_test),\n",
    ")"
   ]
  },
  {
   "cell_type": "code",
   "execution_count": null,
   "metadata": {
    "slideshow": {
     "slide_type": "fragment"
    }
   },
   "outputs": [],
   "source": [
    "import matplotlib.pyplot as plt\n",
    "plt.plot(history.history[\"loss\"],label=\"train\")\n",
    "plt.plot(history.history[\"val_loss\"],label=\"test\")\n",
    "plt.xlabel(\"Iteration\")\n",
    "plt.ylabel('Cross-Entropy Loss')\n",
    "plt.grid()\n",
    "plt.legend()\n",
    "plt.show()"
   ]
  },
  {
   "cell_type": "code",
   "execution_count": null,
   "metadata": {},
   "outputs": [],
   "source": [
    "#print(\"history\",history.history)\n",
    "plt.plot(history.history['sparse_categorical_accuracy'],label=\"train\")\n",
    "plt.plot(history.history['val_sparse_categorical_accuracy'],label=\"validation\")\n",
    "plt.title('Model Accuracy')\n",
    "#plt.yscale('log')\n",
    "plt.ylabel('Acc')\n",
    "plt.xlabel('Iteration')\n",
    "plt.grid()\n",
    "plt.show()"
   ]
  },
  {
   "cell_type": "markdown",
   "metadata": {},
   "source": [
    "## Save the trained model"
   ]
  },
  {
   "cell_type": "code",
   "execution_count": null,
   "metadata": {},
   "outputs": [],
   "source": [
    "keras_model.save(\"IrisModel\")"
   ]
  },
  {
   "cell_type": "markdown",
   "metadata": {},
   "source": [
    "## Check we can re-load our saved model back in\n",
    "- And check it still works (we will print its accuracy on the test set!)"
   ]
  },
  {
   "cell_type": "code",
   "execution_count": null,
   "metadata": {},
   "outputs": [],
   "source": [
    "model2 = keras.models.load_model('IrisModel') # just need to give it a folder name here.\n",
    "model2.summary()\n",
    "predictions=model2(inputs_test)\n",
    "accuracy_metric=keras.metrics.SparseCategoricalAccuracy()\n",
    "print(\"Accuracy of saved model on test set\",accuracy_metric(labels_test,predictions).numpy())"
   ]
  },
  {
   "cell_type": "markdown",
   "metadata": {
    "slideshow": {
     "slide_type": "slide"
    }
   },
   "source": [
    "## End of lecture 3\n"
   ]
  }
 ],
 "metadata": {
  "kernelspec": {
   "display_name": "Python 3 (ipykernel)",
   "language": "python",
   "name": "python3"
  },
  "language_info": {
   "codemirror_mode": {
    "name": "ipython",
    "version": 3
   },
   "file_extension": ".py",
   "mimetype": "text/x-python",
   "name": "python",
   "nbconvert_exporter": "python",
   "pygments_lexer": "ipython3",
   "version": "3.10.4"
  }
 },
 "nbformat": 4,
 "nbformat_minor": 4
}
