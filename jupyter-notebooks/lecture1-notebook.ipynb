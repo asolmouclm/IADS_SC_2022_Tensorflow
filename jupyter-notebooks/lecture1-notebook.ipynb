{
 "cells": [
  {
   "cell_type": "markdown",
   "metadata": {
    "slideshow": {
     "slide_type": "slide"
    }
   },
   "source": [
    "# Lecture 1 notebook\n",
    "## Introduction to TensorFlow and Deep Learning\n",
    "\n",
    "## IADS Summer School, 1st August 2022\n",
    "\n",
    "### Dr Michael Fairbank, University of Essex, UK\n",
    "\n",
    "- Email: m.fairbank@essex.ac.uk\n",
    "- This is a Jupyter Notebook to accompany Lecture 1 of the course"
   ]
  },
  {
   "cell_type": "markdown",
   "metadata": {
    "slideshow": {
     "slide_type": "slide"
    }
   },
   "source": [
    "### Check Python engine is running\n",
    "\n",
    "You need to check you are on python 3.6 or above"
   ]
  },
  {
   "cell_type": "code",
   "execution_count": 1,
   "metadata": {
    "slideshow": {
     "slide_type": "fragment"
    }
   },
   "outputs": [
    {
     "name": "stdout",
     "output_type": "stream",
     "text": [
      "Hello World\n",
      "Python Version 3.8.10 (default, Mar 15 2022, 12:22:08) \n",
      "[GCC 9.4.0]\n"
     ]
    }
   ],
   "source": [
    "print(\"Hello World\")\n",
    "import sys\n",
    "print(\"Python Version\",sys.version)"
   ]
  },
  {
   "cell_type": "markdown",
   "metadata": {},
   "source": [
    "## Check tensorflow version\n",
    "\n",
    "You should see a version > 2.0"
   ]
  },
  {
   "cell_type": "code",
   "execution_count": 2,
   "metadata": {
    "slideshow": {
     "slide_type": "slide"
    }
   },
   "outputs": [
    {
     "name": "stdout",
     "output_type": "stream",
     "text": [
      "2.7.0\n"
     ]
    }
   ],
   "source": [
    "import tensorflow as tf\n",
    "print(tf.__version__)"
   ]
  },
  {
   "cell_type": "markdown",
   "metadata": {},
   "source": [
    "# Lecture slide content for Basic Concepts\n",
    "\n",
    "- Copy the lecture slide contents into the appropriate cells below, run each code block, and check you get the right answer.\n",
    "- There is no need to keep up with all of these in time with the lecture - just do the ones you are curious about for now.  Priorise keeping listening with the lecture and come back to any gaps later.\n"
   ]
  },
  {
   "cell_type": "code",
   "execution_count": null,
   "metadata": {
    "slideshow": {
     "slide_type": "slide"
    }
   },
   "outputs": [],
   "source": [
    "# Slide Title: Basic concepts- Tensor scalars, and numpy\n",
    "# Code (TODO)...\n"
   ]
  },
  {
   "cell_type": "code",
   "execution_count": null,
   "metadata": {},
   "outputs": [],
   "source": [
    "# Slide Title: Basic concepts – tensor addition\n",
    "# Code (TODO)...\n"
   ]
  },
  {
   "cell_type": "code",
   "execution_count": null,
   "metadata": {},
   "outputs": [],
   "source": [
    "# Slide Title: Basic concepts – tensor multiplication \n",
    "# Code (TODO)...\n"
   ]
  },
  {
   "cell_type": "code",
   "execution_count": null,
   "metadata": {},
   "outputs": [],
   "source": [
    "# Slide Title: Basic concepts – matrix multiplication \n",
    "# Code (TODO)...\n"
   ]
  },
  {
   "cell_type": "code",
   "execution_count": null,
   "metadata": {},
   "outputs": [],
   "source": [
    "# Slide Title: Basic concepts – datatypes\n",
    "# Code (TODO)...\n"
   ]
  },
  {
   "cell_type": "code",
   "execution_count": null,
   "metadata": {},
   "outputs": [],
   "source": [
    "# Slide Title: Basic concepts – casting datatypes (1)\n",
    "# Code (TODO)...\n"
   ]
  },
  {
   "cell_type": "code",
   "execution_count": null,
   "metadata": {},
   "outputs": [],
   "source": [
    "# Slide Title: Basic concepts – casting datatypes (2)\n",
    "# Code (TODO)...\n"
   ]
  },
  {
   "cell_type": "code",
   "execution_count": null,
   "metadata": {},
   "outputs": [],
   "source": [
    "# Slide Title: Basic concepts – tensor shape (1)\n",
    "# Code (TODO)...\n"
   ]
  },
  {
   "cell_type": "code",
   "execution_count": null,
   "metadata": {},
   "outputs": [],
   "source": [
    "# Slide Title: Basic concepts – tensor shape (2)\n",
    "# Code (TODO)...\n"
   ]
  },
  {
   "cell_type": "code",
   "execution_count": null,
   "metadata": {},
   "outputs": [],
   "source": [
    "# Slide Title: Basic concepts – tensor shape (3)\n",
    "# Code (TODO)...\n"
   ]
  },
  {
   "cell_type": "code",
   "execution_count": null,
   "metadata": {},
   "outputs": [],
   "source": [
    "# Slide Title: Elementwise Tensor operations\n",
    "# Code (TODO)...\n"
   ]
  },
  {
   "cell_type": "code",
   "execution_count": null,
   "metadata": {},
   "outputs": [],
   "source": [
    "# Slide Title: Comparison Tensor operations\n",
    "# Code (TODO)...\n"
   ]
  },
  {
   "cell_type": "code",
   "execution_count": null,
   "metadata": {},
   "outputs": [],
   "source": [
    "# Slide Title: Basic concepts – operator shorthand\n",
    "# Code (TODO)...\n"
   ]
  },
  {
   "cell_type": "code",
   "execution_count": null,
   "metadata": {},
   "outputs": [],
   "source": [
    "# Slide Title: Basic concepts – variables vs. constants (1)\n",
    "# Code (TODO)...\n"
   ]
  },
  {
   "cell_type": "code",
   "execution_count": null,
   "metadata": {},
   "outputs": [],
   "source": [
    "# Slide Title: Basic concepts – variables vs. constants (2)\n",
    "# Code (TODO)...\n"
   ]
  },
  {
   "cell_type": "code",
   "execution_count": null,
   "metadata": {},
   "outputs": [],
   "source": [
    "# Slide Title: Aggregation functions (1)\n",
    "# Code (TODO)...\n"
   ]
  },
  {
   "cell_type": "code",
   "execution_count": null,
   "metadata": {},
   "outputs": [],
   "source": [
    "# Slide Title: Aggregation functions (2)\n",
    "# Code (TODO)...\n"
   ]
  },
  {
   "cell_type": "code",
   "execution_count": null,
   "metadata": {},
   "outputs": [],
   "source": [
    "# Slide Title: Aggregation functions (3)\n",
    "# Code (TODO)...\n"
   ]
  },
  {
   "cell_type": "code",
   "execution_count": null,
   "metadata": {},
   "outputs": [],
   "source": [
    "# Slide Title: Aggregation functions across an axis (1)\n",
    "# Code (TODO)...\n"
   ]
  },
  {
   "cell_type": "code",
   "execution_count": null,
   "metadata": {},
   "outputs": [],
   "source": [
    "# Slide Title: Aggregation functions across an axis (2)\n",
    "# Code (TODO)...\n"
   ]
  },
  {
   "cell_type": "code",
   "execution_count": null,
   "metadata": {},
   "outputs": [],
   "source": [
    "# Slide Title: Aggregation functions across an axis (1)\n",
    "# Code (TODO)...\n"
   ]
  },
  {
   "cell_type": "code",
   "execution_count": null,
   "metadata": {},
   "outputs": [],
   "source": [
    "# Slide Title: Automatic differentiation (Autodiff) (1)\n",
    "# Code (TODO)...\n"
   ]
  },
  {
   "cell_type": "code",
   "execution_count": null,
   "metadata": {},
   "outputs": [],
   "source": [
    "# Slide Title: Automatic differentiation (Autodiff) (3)\n",
    "# Code (TODO)...\n"
   ]
  },
  {
   "cell_type": "code",
   "execution_count": null,
   "metadata": {},
   "outputs": [],
   "source": [
    "# Slide Title: Automatic differentiation (Autodiff) (4)\n",
    "# Code (TODO)...\n"
   ]
  },
  {
   "cell_type": "markdown",
   "metadata": {},
   "source": [
    "# Gradient Descent Exercise\n",
    "\n",
    "- In this exercise we will build a gradient descent script to minimise $y = x^2 − 4x + 4$ with respect to $x$.\n",
    "- Please tackle this exercise carefully - this is the main exercise of this lecture!"
   ]
  },
  {
   "cell_type": "markdown",
   "metadata": {},
   "source": [
    "#### Exercise 1:"
   ]
  },
  {
   "cell_type": "code",
   "execution_count": null,
   "metadata": {},
   "outputs": [],
   "source": [
    "# Slide Title: Example 1D Gradient Descent problem\n",
    "# Complete the 3 TODOs below and run the code to solve the minimisation challenge...\n",
    "import tensorflow as tf\n",
    "eta = 0.1 # learning rate\n",
    "x = tf.Variable(10.0, tf.float32) # arbitrary initial value\n",
    "\n",
    "for i in range(50):\n",
    "    with tf.GradientTape() as tape:\n",
    "        y=#TODO put in formula for y in terms of x here\n",
    "    dydx=tape.gradient(# TODO finish this line\n",
    "    x.assign(#TODO finish x_(t+1)=x_t-eta*dydx\n",
    "    print(\"iteration:\",i, \"x:\", x.numpy(), \"y:\", y.numpy())"
   ]
  },
  {
   "cell_type": "markdown",
   "metadata": {},
   "source": [
    "## Optimised versions of Gradient Descent Exercise\n",
    "\n",
    "- Now we will repeat the above exercise (and hopefully get exactly the same results again)\n",
    "- But now we will use some higher-level TensorFlow functions..."
   ]
  },
  {
   "cell_type": "markdown",
   "metadata": {},
   "source": [
    "#### Exercise 1, Version 2:"
   ]
  },
  {
   "cell_type": "code",
   "execution_count": null,
   "metadata": {},
   "outputs": [],
   "source": [
    "# Slide Title: Optimised Version (Exercise 1, Version 2)\n",
    "# Code (TODO)...\n"
   ]
  },
  {
   "cell_type": "markdown",
   "metadata": {},
   "source": [
    "#### Exercise 1, Version 3:"
   ]
  },
  {
   "cell_type": "code",
   "execution_count": null,
   "metadata": {},
   "outputs": [],
   "source": [
    "# Slide Title: Using a built-in optimizer\n",
    "# Code (TODO)...\n"
   ]
  },
  {
   "cell_type": "markdown",
   "metadata": {
    "slideshow": {
     "slide_type": "slide"
    }
   },
   "source": [
    "## End of lecture 1\n"
   ]
  }
 ],
 "metadata": {
  "kernelspec": {
   "display_name": "Python 3",
   "language": "python",
   "name": "python3"
  },
  "language_info": {
   "codemirror_mode": {
    "name": "ipython",
    "version": 3
   },
   "file_extension": ".py",
   "mimetype": "text/x-python",
   "name": "python",
   "nbconvert_exporter": "python",
   "pygments_lexer": "ipython3",
   "version": "3.8.10"
  }
 },
 "nbformat": 4,
 "nbformat_minor": 4
}
